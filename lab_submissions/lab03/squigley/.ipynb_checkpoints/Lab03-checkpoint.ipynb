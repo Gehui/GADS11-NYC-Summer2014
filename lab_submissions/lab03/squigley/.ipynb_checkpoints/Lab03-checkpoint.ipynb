{
 "metadata": {
  "name": "",
  "signature": "sha256:098c81bcd27cd1c236fad7ce8f291c82d3310f30c88bf01ade295bd24098d6c5"
 },
 "nbformat": 3,
 "nbformat_minor": 0,
 "worksheets": []
}