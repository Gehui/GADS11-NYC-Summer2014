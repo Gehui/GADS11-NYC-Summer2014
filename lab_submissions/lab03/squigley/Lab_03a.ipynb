{
 "metadata": {
  "name": "",
  "signature": "sha256:d87223dd9576a2d320e3cf7a04817cb136b108ee4dd121b4718dd20cbed4ec2b"
 },
 "nbformat": 3,
 "nbformat_minor": 0,
 "worksheets": [
  {
   "cells": [
    {
     "cell_type": "markdown",
     "metadata": {},
     "source": [
      "# Lab 03a - Numpy"
     ]
    },
    {
     "cell_type": "markdown",
     "metadata": {},
     "source": [
      "Fill in the following and submit as a pull request as usual."
     ]
    },
    {
     "cell_type": "code",
     "collapsed": false,
     "input": [
      "import numpy as np"
     ],
     "language": "python",
     "metadata": {},
     "outputs": [],
     "prompt_number": 9
    },
    {
     "cell_type": "markdown",
     "metadata": {},
     "source": [
      "### Basic operations"
     ]
    },
    {
     "cell_type": "code",
     "collapsed": false,
     "input": [
      "a = np.random.randint(1, 1000, (3, 4))\n",
      "a"
     ],
     "language": "python",
     "metadata": {},
     "outputs": [
      {
       "metadata": {},
       "output_type": "pyout",
       "prompt_number": 56,
       "text": [
        "array([[433, 114, 872, 504],\n",
        "       [153, 926,  46, 174],\n",
        "       [775, 587, 756, 220]])"
       ]
      }
     ],
     "prompt_number": 56
    },
    {
     "cell_type": "markdown",
     "metadata": {},
     "source": [
      "describe what the following methods of the array, `a`, do:\n",
      "\n",
      "* shape\n",
      "* dtype\n",
      "* flatten\n",
      "* max/min\n",
      "* argmax/argmin\n",
      "* argsort\n",
      "* T\n",
      "* copy\n",
      "* diagonal"
     ]
    },
    {
     "cell_type": "code",
     "collapsed": false,
     "input": [
      "# play with a herea.\n",
      "# np.array(arr)[new_arr]\n",
      "# np.argsort(a)\n",
      "order = np.argsort(a)\n",
      "print np.array(a)[order]\n"
     ],
     "language": "python",
     "metadata": {},
     "outputs": [
      {
       "ename": "IndexError",
       "evalue": "index 3 is out of bounds for axis 0 with size 3",
       "output_type": "pyerr",
       "traceback": [
        "\u001b[0;31m---------------------------------------------------------------------------\u001b[0m\n\u001b[0;31mIndexError\u001b[0m                                Traceback (most recent call last)",
        "\u001b[0;32m<ipython-input-79-4d8bb629f775>\u001b[0m in \u001b[0;36m<module>\u001b[0;34m()\u001b[0m\n\u001b[1;32m      3\u001b[0m \u001b[0;31m# np.argsort(a)\u001b[0m\u001b[0;34m\u001b[0m\u001b[0;34m\u001b[0m\u001b[0m\n\u001b[1;32m      4\u001b[0m \u001b[0morder\u001b[0m \u001b[0;34m=\u001b[0m \u001b[0mnp\u001b[0m\u001b[0;34m.\u001b[0m\u001b[0margsort\u001b[0m\u001b[0;34m(\u001b[0m\u001b[0ma\u001b[0m\u001b[0;34m)\u001b[0m\u001b[0;34m\u001b[0m\u001b[0m\n\u001b[0;32m----> 5\u001b[0;31m \u001b[0;32mprint\u001b[0m \u001b[0mnp\u001b[0m\u001b[0;34m.\u001b[0m\u001b[0marray\u001b[0m\u001b[0;34m(\u001b[0m\u001b[0ma\u001b[0m\u001b[0;34m)\u001b[0m\u001b[0;34m[\u001b[0m\u001b[0morder\u001b[0m\u001b[0;34m]\u001b[0m\u001b[0;34m\u001b[0m\u001b[0m\n\u001b[0m",
        "\u001b[0;31mIndexError\u001b[0m: index 3 is out of bounds for axis 0 with size 3"
       ]
      }
     ],
     "prompt_number": 79
    },
    {
     "cell_type": "code",
     "collapsed": false,
     "input": [
      "a[[[1,0],2]]"
     ],
     "language": "python",
     "metadata": {},
     "outputs": [
      {
       "metadata": {},
       "output_type": "pyout",
       "prompt_number": 77,
       "text": [
        "array([ 46, 872])"
       ]
      }
     ],
     "prompt_number": 77
    },
    {
     "cell_type": "markdown",
     "metadata": {},
     "source": [
      "find the sum of each row of a"
     ]
    },
    {
     "cell_type": "code",
     "collapsed": false,
     "input": [
      "[sum(row) for row in a]"
     ],
     "language": "python",
     "metadata": {},
     "outputs": [
      {
       "metadata": {},
       "output_type": "pyout",
       "prompt_number": 16,
       "text": [
        "[2193, 1645, 2692]"
       ]
      }
     ],
     "prompt_number": 16
    },
    {
     "cell_type": "markdown",
     "metadata": {},
     "source": [
      "Compare the running times of these operations"
     ]
    },
    {
     "cell_type": "code",
     "collapsed": false,
     "input": [
      "a = [np.random.random() for _ in xrange(1000)]  # this pattern is called a list comprehension\n",
      "%timeit max(a)  # python builtin"
     ],
     "language": "python",
     "metadata": {},
     "outputs": [
      {
       "output_type": "stream",
       "stream": "stdout",
       "text": [
        "10000 loops, best of 3: 21.8 \u00b5s per loop\n"
       ]
      }
     ],
     "prompt_number": 84
    },
    {
     "cell_type": "code",
     "collapsed": false,
     "input": [
      "b = np.array(a)\n",
      "%timeit b.max()  # numpy array method"
     ],
     "language": "python",
     "metadata": {},
     "outputs": [
      {
       "output_type": "stream",
       "stream": "stdout",
       "text": [
        "100000 loops, best of 3: 4.42 \u00b5s per loop\n"
       ]
      }
     ],
     "prompt_number": 85
    },
    {
     "cell_type": "code",
     "collapsed": false,
     "input": [
      "%%timeit\n",
      "a = []\n",
      "for i in xrange(1000):\n",
      "    # append i to the list a\n",
      "    a.append(i)\n",
      "    "
     ],
     "language": "python",
     "metadata": {},
     "outputs": [
      {
       "output_type": "stream",
       "stream": "stdout",
       "text": [
        "10000 loops, best of 3: 77.4 \u00b5s per loop\n"
       ]
      }
     ],
     "prompt_number": 87
    },
    {
     "cell_type": "code",
     "collapsed": false,
     "input": [
      "%%timeit\n",
      "b = np.array([])\n",
      "for i in xrange(1000):\n",
      "    # append i to the numpy array b\n",
      "    np.append(b, i)"
     ],
     "language": "python",
     "metadata": {},
     "outputs": [
      {
       "output_type": "stream",
       "stream": "stdout",
       "text": [
        "100 loops, best of 3: 4.41 ms per loop\n"
       ]
      }
     ],
     "prompt_number": 107
    },
    {
     "cell_type": "markdown",
     "metadata": {},
     "source": [
      "Return the square root (`np.sqrt(x)`) of every element in the list `a` and the array `b`, and time it."
     ]
    },
    {
     "cell_type": "code",
     "collapsed": false,
     "input": [
      "a = range(1000)\n",
      "b = np.array(a)"
     ],
     "language": "python",
     "metadata": {},
     "outputs": []
    },
    {
     "cell_type": "code",
     "collapsed": false,
     "input": [
      "# find the time to take the sqrt of every element of a\n",
      "\n",
      "%timeit # code here\n",
      "for i in a:\n",
      "    np.sqrt(i)"
     ],
     "language": "python",
     "metadata": {},
     "outputs": [
      {
       "output_type": "stream",
       "stream": "stdout",
       "text": [
        "100000000 loops, best of 3: 13.1 ns per loop\n"
       ]
      }
     ],
     "prompt_number": 104
    },
    {
     "cell_type": "code",
     "collapsed": false,
     "input": [
      "# find the time to take the sqrt of every element of b\n",
      "\n",
      "%timeit # code here\n",
      "np.sqrt(b)\n",
      "1"
     ],
     "language": "python",
     "metadata": {},
     "outputs": [
      {
       "output_type": "stream",
       "stream": "stdout",
       "text": [
        "100000000 loops, best of 3: 12.6 ns per loop\n"
       ]
      },
      {
       "metadata": {},
       "output_type": "pyout",
       "prompt_number": 113,
       "text": [
        "1"
       ]
      }
     ],
     "prompt_number": 113
    },
    {
     "cell_type": "markdown",
     "metadata": {},
     "source": [
      "What are the strengths and weaknesses of arrays vs. lists?\n",
      "\n",
      "*Answer here*\n"
     ]
    },
    {
     "cell_type": "markdown",
     "metadata": {},
     "source": [
      "### Constructors"
     ]
    },
    {
     "cell_type": "markdown",
     "metadata": {},
     "source": [
      "construct the following ndarray without explicitly defining it. i.e. use constructors and broadcasting arithmetic:\n",
      "\\begin{pmatrix}\n",
      "1 & 2 & 2 \\\\\n",
      "2 & 1 & 2 \\\\\n",
      "2 & 2 & 1\n",
      "\\end{pmatrix}"
     ]
    },
    {
     "cell_type": "code",
     "collapsed": false,
     "input": [],
     "language": "python",
     "metadata": {},
     "outputs": []
    },
    {
     "cell_type": "markdown",
     "metadata": {},
     "source": [
      "construct the following ndarray without explicitly defining it.\n",
      "\\begin{pmatrix}\n",
      "1 & 2 & 3 & 4 \\\\\n",
      "5 & 6 & 7 & 8 \\\\\n",
      "9 & 10 & 11 & 12\n",
      "\\end{pmatrix}"
     ]
    },
    {
     "cell_type": "code",
     "collapsed": false,
     "input": [
      "np.array(10)\n"
     ],
     "language": "python",
     "metadata": {},
     "outputs": [
      {
       "metadata": {},
       "output_type": "pyout",
       "prompt_number": 115,
       "text": [
        "array(10)"
       ]
      }
     ],
     "prompt_number": 115
    },
    {
     "cell_type": "markdown",
     "metadata": {},
     "source": [
      "### Data Types"
     ]
    },
    {
     "cell_type": "markdown",
     "metadata": {},
     "source": [
      "What results from operations between lists and arrays? Explain the result of the following cell:"
     ]
    },
    {
     "cell_type": "code",
     "collapsed": false,
     "input": [
      "range(10) + np.arange(10)"
     ],
     "language": "python",
     "metadata": {},
     "outputs": []
    },
    {
     "cell_type": "markdown",
     "metadata": {},
     "source": [
      "Are certain numpy datatypes dominant over others? Trying combining arrays of the following pairs of types in a similar manner and see what results:"
     ]
    },
    {
     "cell_type": "code",
     "collapsed": false,
     "input": [
      "# np.int16, np.int64\n"
     ],
     "language": "python",
     "metadata": {},
     "outputs": []
    },
    {
     "cell_type": "code",
     "collapsed": false,
     "input": [
      "# np.int16, np.float64\n"
     ],
     "language": "python",
     "metadata": {},
     "outputs": []
    },
    {
     "cell_type": "code",
     "collapsed": false,
     "input": [
      "# np.int16, np.uint16\n"
     ],
     "language": "python",
     "metadata": {},
     "outputs": []
    },
    {
     "cell_type": "markdown",
     "metadata": {},
     "source": [
      "Explain what happens with the following statements:"
     ]
    },
    {
     "cell_type": "code",
     "collapsed": false,
     "input": [
      "np.array([1, 4, 3.0, 6])"
     ],
     "language": "python",
     "metadata": {},
     "outputs": []
    },
    {
     "cell_type": "code",
     "collapsed": false,
     "input": [
      "np.array([1, 'a', 3, 7])"
     ],
     "language": "python",
     "metadata": {},
     "outputs": []
    },
    {
     "cell_type": "code",
     "collapsed": false,
     "input": [
      "np.array(set([1, 4, 4, 5]))"
     ],
     "language": "python",
     "metadata": {},
     "outputs": []
    },
    {
     "cell_type": "markdown",
     "metadata": {},
     "source": [
      "### Functions"
     ]
    },
    {
     "cell_type": "markdown",
     "metadata": {},
     "source": [
      "Use one of numpy's [builtin functions](http://docs.scipy.org/doc/numpy-1.8.1/reference/routines.math.html) to find the first 100 [triangular numbers](http://en.wikipedia.org/wiki/Triangular_number)"
     ]
    },
    {
     "cell_type": "code",
     "collapsed": false,
     "input": [
      "# this can be a one-liner\n"
     ],
     "language": "python",
     "metadata": {},
     "outputs": []
    },
    {
     "cell_type": "markdown",
     "metadata": {},
     "source": [
      "compute the matrix product of these two arrays (not element-wise)\n",
      "\n",
      "\\begin{equation} \\begin{pmatrix}\n",
      "3 & 4 & 5 \\\\\n",
      "5 & 4 & 3 \\\\\n",
      "1 & 2 & 3\n",
      "\\end{pmatrix}\n",
      "\\begin{pmatrix}\n",
      "10 \\\\\n",
      "20 \\\\\n",
      "30\n",
      "\\end{pmatrix}\\end{equation}"
     ]
    },
    {
     "cell_type": "code",
     "collapsed": false,
     "input": [
      "a = np.array([[3, 4, 5], [5, 4, 3], [1, 2, 3]])\n",
      "b = np.array([10, 20, 30])\n",
      "a, b"
     ],
     "language": "python",
     "metadata": {},
     "outputs": []
    },
    {
     "cell_type": "code",
     "collapsed": false,
     "input": [
      "# matrix multiplication. You should get a vector as your output.\n"
     ],
     "language": "python",
     "metadata": {},
     "outputs": []
    },
    {
     "cell_type": "markdown",
     "metadata": {},
     "source": [
      "combine these vectors into a matrix\n",
      "\\begin{pmatrix}\n",
      "0 & 10 & 100 \\\\\n",
      "1 & 11 & 110 \\\\\n",
      "2 & 12 & 120 \\\\\n",
      "3 & 13 & 130\n",
      "\\end{pmatrix}"
     ]
    },
    {
     "cell_type": "code",
     "collapsed": false,
     "input": [
      "a, b, c = np.arange(4), np.arange(10, 14), np.arange(100, 140, 10)\n",
      "a, b, c"
     ],
     "language": "python",
     "metadata": {},
     "outputs": []
    },
    {
     "cell_type": "code",
     "collapsed": false,
     "input": [],
     "language": "python",
     "metadata": {},
     "outputs": []
    },
    {
     "cell_type": "markdown",
     "metadata": {},
     "source": [
      "define a function that takes an array as input, and returns the [logistic function](http://en.wikipedia.org/wiki/Logistic_function) applied to every element:\n",
      "\n",
      "\\begin{equation}\n",
      "f(x) = {1 \\over 1 + e^{-x}}\n",
      "\\end{equation}"
     ]
    },
    {
     "cell_type": "code",
     "collapsed": false,
     "input": [
      "def logistic(sequence):\n",
      "    # calculate the logistic function here\n",
      "    return"
     ],
     "language": "python",
     "metadata": {},
     "outputs": []
    },
    {
     "cell_type": "code",
     "collapsed": false,
     "input": [
      "# verify that your function behaves correctly by running this cell\n",
      "import matplotlib.pyplot as plt\n",
      "%matplotlib inline\n",
      "\n",
      "domain = np.linspace(-6, 6, 100)\n",
      "plt.plot(domain, logistic(domain))\n",
      "plt.show()"
     ],
     "language": "python",
     "metadata": {},
     "outputs": []
    },
    {
     "cell_type": "markdown",
     "metadata": {},
     "source": [
      "## More material\n",
      "* [100 numpy exercises](http://www.loria.fr/~rougier/teaching/numpy.100/)\n",
      "* [Performance Tips](http://wiki.scipy.org/PerformanceTips)\n",
      "* [Numpy C-API](http://docs.scipy.org/doc/numpy-dev/reference/c-api.html) if you absolutely need performance"
     ]
    }
   ],
   "metadata": {}
  }
 ]
}