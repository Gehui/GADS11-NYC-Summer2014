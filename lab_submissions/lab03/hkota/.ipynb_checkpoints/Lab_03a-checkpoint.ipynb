{
 "metadata": {
  "name": "",
  "signature": "sha256:ab6af7a6a1b467b122bda021cb3d90f552f36bc75cb2dde813bd69bfd8677857"
 },
 "nbformat": 3,
 "nbformat_minor": 0,
 "worksheets": [
  {
   "cells": [
    {
     "cell_type": "markdown",
     "metadata": {},
     "source": [
      "# Lab 03a - Numpy"
     ]
    },
    {
     "cell_type": "code",
     "collapsed": false,
     "input": [],
     "language": "python",
     "metadata": {},
     "outputs": []
    },
    {
     "cell_type": "code",
     "collapsed": false,
     "input": [
      "import numpy as np"
     ],
     "language": "python",
     "metadata": {},
     "outputs": [],
     "prompt_number": 1
    },
    {
     "cell_type": "markdown",
     "metadata": {},
     "source": [
      "### Basic operations"
     ]
    },
    {
     "cell_type": "code",
     "collapsed": false,
     "input": [
      "a = np.random.randint(1, 1000, (3, 4))\n",
      "a"
     ],
     "language": "python",
     "metadata": {},
     "outputs": [
      {
       "metadata": {},
       "output_type": "pyout",
       "prompt_number": 2,
       "text": [
        "array([[506,  31, 268, 477],\n",
        "       [507, 432, 689, 456],\n",
        "       [151, 116, 654, 806]])"
       ]
      }
     ],
     "prompt_number": 2
    },
    {
     "cell_type": "markdown",
     "metadata": {},
     "source": [
      "describe what the following methods of the array, `a`, do:\n",
      "\n",
      "* shape\n",
      "* dtype\n",
      "* flatten\n",
      "* max/min\n",
      "* argmax/argmin\n",
      "* argsort\n",
      "* T\n",
      "* copy\n",
      "* diagonal"
     ]
    },
    {
     "cell_type": "code",
     "collapsed": false,
     "input": [
      "# play with a here\n",
      "\n",
      "a.shape\n",
      "#shape gives the dimensions of the array\n",
      "\n",
      "\n"
     ],
     "language": "python",
     "metadata": {},
     "outputs": [
      {
       "metadata": {},
       "output_type": "pyout",
       "prompt_number": 8,
       "text": [
        "(3, 4)"
       ]
      }
     ],
     "prompt_number": 8
    },
    {
     "cell_type": "code",
     "collapsed": false,
     "input": [
      "a.dtype\n",
      "#dtype gives the data type"
     ],
     "language": "python",
     "metadata": {},
     "outputs": [
      {
       "metadata": {},
       "output_type": "pyout",
       "prompt_number": 9,
       "text": [
        "dtype('int64')"
       ]
      }
     ],
     "prompt_number": 9
    },
    {
     "cell_type": "code",
     "collapsed": false,
     "input": [
      "a.flatten()\n",
      "# flattens into a single row - single dimensional array"
     ],
     "language": "python",
     "metadata": {},
     "outputs": [
      {
       "metadata": {},
       "output_type": "pyout",
       "prompt_number": 16,
       "text": [
        "array([506,  31, 268, 477, 507, 432, 689, 456, 151, 116, 654, 806])"
       ]
      }
     ],
     "prompt_number": 16
    },
    {
     "cell_type": "code",
     "collapsed": false,
     "input": [
      "a.max()\n",
      "#prints the maximum value in the array"
     ],
     "language": "python",
     "metadata": {},
     "outputs": [
      {
       "metadata": {},
       "output_type": "pyout",
       "prompt_number": 17,
       "text": [
        "806"
       ]
      }
     ],
     "prompt_number": 17
    },
    {
     "cell_type": "code",
     "collapsed": false,
     "input": [
      "a.min()\n",
      "# prints the minimum value in the array"
     ],
     "language": "python",
     "metadata": {},
     "outputs": [
      {
       "metadata": {},
       "output_type": "pyout",
       "prompt_number": 18,
       "text": [
        "31"
       ]
      }
     ],
     "prompt_number": 18
    },
    {
     "cell_type": "code",
     "collapsed": false,
     "input": [
      "a.argmax()\n",
      "# prints the index of the largest value in the flattened array"
     ],
     "language": "python",
     "metadata": {},
     "outputs": [
      {
       "metadata": {},
       "output_type": "pyout",
       "prompt_number": 19,
       "text": [
        "11"
       ]
      }
     ],
     "prompt_number": 19
    },
    {
     "cell_type": "code",
     "collapsed": false,
     "input": [
      "a.argmin()\n",
      "# prints the index of the smallest value in the flattened array"
     ],
     "language": "python",
     "metadata": {},
     "outputs": [
      {
       "metadata": {},
       "output_type": "pyout",
       "prompt_number": 22,
       "text": [
        "1"
       ]
      }
     ],
     "prompt_number": 22
    },
    {
     "cell_type": "raw",
     "metadata": {},
     "source": []
    },
    {
     "cell_type": "code",
     "collapsed": false,
     "input": [
      "print a\n",
      "a.argsort()\n",
      "# prints the indexes in a sorted manner for each row"
     ],
     "language": "python",
     "metadata": {},
     "outputs": [
      {
       "output_type": "stream",
       "stream": "stdout",
       "text": [
        "[[506  31 268 477]\n",
        " [507 432 689 456]\n",
        " [151 116 654 806]]\n"
       ]
      },
      {
       "metadata": {},
       "output_type": "pyout",
       "prompt_number": 29,
       "text": [
        "array([[1, 2, 3, 0],\n",
        "       [1, 3, 0, 2],\n",
        "       [1, 0, 2, 3]])"
       ]
      }
     ],
     "prompt_number": 29
    },
    {
     "cell_type": "code",
     "collapsed": false,
     "input": [
      "np.argsort?\n",
      "# documentation for any keyword"
     ],
     "language": "python",
     "metadata": {},
     "outputs": [],
     "prompt_number": 31
    },
    {
     "cell_type": "code",
     "collapsed": false,
     "input": [
      "a.T\n",
      "#transposes the array and prints it"
     ],
     "language": "python",
     "metadata": {},
     "outputs": [
      {
       "metadata": {},
       "output_type": "pyout",
       "prompt_number": 32,
       "text": [
        "array([[506, 507, 151],\n",
        "       [ 31, 432, 116],\n",
        "       [268, 689, 654],\n",
        "       [477, 456, 806]])"
       ]
      }
     ],
     "prompt_number": 32
    },
    {
     "cell_type": "code",
     "collapsed": false,
     "input": [
      "b = a.copy()\n",
      "print b\n",
      "# copies the array"
     ],
     "language": "python",
     "metadata": {},
     "outputs": [
      {
       "output_type": "stream",
       "stream": "stdout",
       "text": [
        "[[506  31 268 477]\n",
        " [507 432 689 456]\n",
        " [151 116 654 806]]\n"
       ]
      }
     ],
     "prompt_number": 39
    },
    {
     "cell_type": "markdown",
     "metadata": {},
     "source": [
      "find the sum of each row of a"
     ]
    },
    {
     "cell_type": "code",
     "collapsed": false,
     "input": [
      "a.sum(1)"
     ],
     "language": "python",
     "metadata": {},
     "outputs": [
      {
       "metadata": {},
       "output_type": "pyout",
       "prompt_number": 48,
       "text": [
        "array([1282, 2084, 1727])"
       ]
      }
     ],
     "prompt_number": 48
    },
    {
     "cell_type": "code",
     "collapsed": false,
     "input": [
      "a.diagonal()\n",
      "# prints the diagnonal from the given index"
     ],
     "language": "python",
     "metadata": {},
     "outputs": [
      {
       "metadata": {},
       "output_type": "pyout",
       "prompt_number": 42,
       "text": [
        "array([ 31, 689, 806])"
       ]
      }
     ],
     "prompt_number": 42
    },
    {
     "cell_type": "markdown",
     "metadata": {},
     "source": [
      "Compare the running times of these operations"
     ]
    },
    {
     "cell_type": "code",
     "collapsed": false,
     "input": [
      "a = [np.random.random() for _ in xrange(1000)]  # this pattern is called a list comprehension\n",
      "%timeit max(a)  # python builtin"
     ],
     "language": "python",
     "metadata": {},
     "outputs": [
      {
       "output_type": "stream",
       "stream": "stdout",
       "text": [
        "10000 loops, best of 3: 25.8 \u00b5s per loop\n"
       ]
      }
     ],
     "prompt_number": 50
    },
    {
     "cell_type": "code",
     "collapsed": false,
     "input": [
      "print a[:10]\n",
      "b = np.array(a)\n",
      "print 'b', b[:10]\n",
      "%timeit b.max()  # numpy array method"
     ],
     "language": "python",
     "metadata": {},
     "outputs": [
      {
       "output_type": "stream",
       "stream": "stdout",
       "text": [
        "[0.5321197103554788, 0.17812724627512833, 0.29625053022273873, 0.24706623652480242, 0.17961707831040508, 0.8329344310031804, 0.9415020983277403, 0.015316635299693737, 0.27581206926977453, 0.5295244296430407]\n",
        "b [ 0.53211971  0.17812725  0.29625053  0.24706624  0.17961708  0.83293443\n",
        "  0.9415021   0.01531664  0.27581207  0.52952443]\n",
        "100000 loops, best of 3: 7.01 \u00b5s per loop"
       ]
      },
      {
       "output_type": "stream",
       "stream": "stdout",
       "text": [
        "\n"
       ]
      }
     ],
     "prompt_number": 58
    },
    {
     "cell_type": "code",
     "collapsed": false,
     "input": [
      "%%timeit\n",
      "a = []\n",
      "# a is a new list - empty list\n",
      "for i in xrange(1000):\n",
      "    # append i to the list a\n",
      "    a.append(i)"
     ],
     "language": "python",
     "metadata": {},
     "outputs": [
      {
       "output_type": "stream",
       "stream": "stdout",
       "text": [
        "10000 loops, best of 3: 104 \u00b5s per loop\n"
       ]
      }
     ],
     "prompt_number": 61
    },
    {
     "cell_type": "code",
     "collapsed": false,
     "input": [
      "%%timeit\n",
      "b = np.array([])\n",
      "for i in xrange(1000):\n",
      "    # append i to the numpy array b\n",
      "    b = np.append(b,i)\n",
      "\n",
      "\n"
     ],
     "language": "python",
     "metadata": {},
     "outputs": [
      {
       "output_type": "stream",
       "stream": "stdout",
       "text": [
        "100 loops, best of 3: 8.04 ms per loop\n"
       ]
      }
     ],
     "prompt_number": 91
    },
    {
     "cell_type": "markdown",
     "metadata": {},
     "source": [
      "Return the square root (`np.sqrt(x)`) of every element in the list `a` and the array `b`, and time it."
     ]
    },
    {
     "cell_type": "code",
     "collapsed": false,
     "input": [
      "%%timeit\n",
      "a = range(1000)\n",
      "b = np.array(a)\n",
      "\n",
      "np.sqrt(a)\n",
      "np.sqrt(b)\n"
     ],
     "language": "python",
     "metadata": {},
     "outputs": [
      {
       "output_type": "stream",
       "stream": "stdout",
       "text": [
        "1000 loops, best of 3: 250 \u00b5s per loop\n"
       ]
      }
     ],
     "prompt_number": 93
    },
    {
     "cell_type": "code",
     "collapsed": false,
     "input": [
      "# find the time to take the sqrt of every element of a\n",
      "\n",
      "%timeit np.sqrt(a)"
     ],
     "language": "python",
     "metadata": {},
     "outputs": [
      {
       "output_type": "stream",
       "stream": "stdout",
       "text": [
        "10000 loops, best of 3: 120 \u00b5s per loop\n"
       ]
      }
     ],
     "prompt_number": 94
    },
    {
     "cell_type": "code",
     "collapsed": false,
     "input": [
      "# find the time to take the sqrt of every element of b (hint: take advantage of array broadcasting)\n",
      "\n",
      "%timeit np.sqrt(b)\n"
     ],
     "language": "python",
     "metadata": {},
     "outputs": [
      {
       "output_type": "stream",
       "stream": "stdout",
       "text": [
        "100000 loops, best of 3: 6.23 \u00b5s per loop\n"
       ]
      }
     ],
     "prompt_number": 95
    },
    {
     "cell_type": "markdown",
     "metadata": {},
     "source": [
      "What are the strengths and weaknesses of arrays vs. lists?\n",
      "\n",
      "*Answer here*\n"
     ]
    },
    {
     "cell_type": "markdown",
     "metadata": {},
     "source": [
      "### Constructors"
     ]
    },
    {
     "cell_type": "markdown",
     "metadata": {},
     "source": [
      "construct the following ndarray without explicitly defining it. i.e. use constructors and broadcasting arithmetic:\n",
      "\\begin{pmatrix}\n",
      "1 & 2 & 2 \\\\\n",
      "2 & 1 & 2 \\\\\n",
      "2 & 2 & 1\n",
      "\\end{pmatrix}"
     ]
    },
    {
     "cell_type": "code",
     "collapsed": false,
     "input": [
      "from numpy import * #Load all the numpy packages\n",
      "a = ones((3,3))\n",
      "a = a * 2\n",
      "np.fill_diagonal(a,1,wrap = False)\n",
      "print a"
     ],
     "language": "python",
     "metadata": {},
     "outputs": [
      {
       "output_type": "stream",
       "stream": "stdout",
       "text": [
        "[[ 1.  2.  2.]\n",
        " [ 2.  1.  2.]\n",
        " [ 2.  2.  1.]]\n"
       ]
      }
     ],
     "prompt_number": 113
    },
    {
     "cell_type": "markdown",
     "metadata": {},
     "source": [
      "construct the following ndarray without explicitly defining it.\n",
      "\\begin{pmatrix}\n",
      "1 & 2 & 3 & 4 \\\\\n",
      "5 & 6 & 7 & 8 \\\\\n",
      "9 & 10 & 11 & 12\n",
      "\\end{pmatrix}"
     ]
    },
    {
     "cell_type": "code",
     "collapsed": false,
     "input": [
      "\n",
      "d = np.arange(1, 13, 1 )\n",
      "\n",
      "a,b,c = d[0:4] , d [4:8] , d [8:12]\n",
      "\n",
      "d = np.array([a,b,c])\n",
      "print d\n",
      "\n",
      "# list of elements; see how to split them to an array of required dimensions\n"
     ],
     "language": "python",
     "metadata": {},
     "outputs": [
      {
       "output_type": "stream",
       "stream": "stdout",
       "text": [
        "[[ 1  2  3  4]\n",
        " [ 5  6  7  8]\n",
        " [ 9 10 11 12]]\n"
       ]
      },
      {
       "metadata": {},
       "output_type": "pyout",
       "prompt_number": 194,
       "text": [
        "array([[  0,  10, 100],\n",
        "       [  1,  11, 110],\n",
        "       [  2,  12, 120],\n",
        "       [  3,  13, 130]])"
       ]
      }
     ],
     "prompt_number": 194
    },
    {
     "cell_type": "markdown",
     "metadata": {},
     "source": [
      "### Data Types"
     ]
    },
    {
     "cell_type": "markdown",
     "metadata": {},
     "source": [
      "What results from operations between lists and arrays? Explain the result of the following cell:"
     ]
    },
    {
     "cell_type": "code",
     "collapsed": false,
     "input": [
      "a = range(10) \n",
      "b = np.arange(10)\n",
      "c  = a+b\n",
      "c.dtype\n"
     ],
     "language": "python",
     "metadata": {},
     "outputs": [
      {
       "metadata": {},
       "output_type": "pyout",
       "prompt_number": 145,
       "text": [
        "dtype('int64')"
       ]
      }
     ],
     "prompt_number": 145
    },
    {
     "cell_type": "markdown",
     "metadata": {},
     "source": [
      "Are certain numpy datatypes dominant over others? Trying combining arrays of the following pairs of types in a similar manner and see what results:\n",
      "the corresponding number at each index is added . The addition of a list and array creates an array.\n"
     ]
    },
    {
     "cell_type": "code",
     "collapsed": false,
     "input": [
      "# np.int16, np.int64\n",
      "a =  np.int16(2.89)\n",
      "b = np.int64(128.89)\n",
      "c = a+b\n",
      "c.dtype\n"
     ],
     "language": "python",
     "metadata": {},
     "outputs": [
      {
       "metadata": {},
       "output_type": "pyout",
       "prompt_number": 147,
       "text": [
        "dtype('int64')"
       ]
      }
     ],
     "prompt_number": 147
    },
    {
     "cell_type": "code",
     "collapsed": false,
     "input": [
      "# np.int16, np.float64\n",
      "a =  np.int16(2.89)\n",
      "b = np.float64(128.89)\n",
      "c = a+b\n",
      "c.dtype\n"
     ],
     "language": "python",
     "metadata": {},
     "outputs": [
      {
       "metadata": {},
       "output_type": "pyout",
       "prompt_number": 148,
       "text": [
        "dtype('float64')"
       ]
      }
     ],
     "prompt_number": 148
    },
    {
     "cell_type": "code",
     "collapsed": false,
     "input": [
      "# np.int16, np.uint16\n",
      "a =  np.int16(2.89)\n",
      "b = np.uint64(128.89)\n",
      "c = a+b\n",
      "c.dtype"
     ],
     "language": "python",
     "metadata": {},
     "outputs": [
      {
       "metadata": {},
       "output_type": "pyout",
       "prompt_number": 151,
       "text": [
        "dtype('float64')"
       ]
      }
     ],
     "prompt_number": 151
    },
    {
     "cell_type": "markdown",
     "metadata": {},
     "source": [
      "Explain what happens with the following statements:"
     ]
    },
    {
     "cell_type": "code",
     "collapsed": false,
     "input": [
      "a = np.array([1, 4, 3.0, 6])\n",
      "a.dtype\n",
      "#all the elements in the array take the highest datatype. In this case float64"
     ],
     "language": "python",
     "metadata": {},
     "outputs": [
      {
       "metadata": {},
       "output_type": "pyout",
       "prompt_number": 153,
       "text": [
        "dtype('float64')"
       ]
      }
     ],
     "prompt_number": 153
    },
    {
     "cell_type": "code",
     "collapsed": false,
     "input": [
      "a = np.array([1, 'a', 3, 7])\n",
      "print a\n",
      "#all the elements take the highes datatype. In this case string"
     ],
     "language": "python",
     "metadata": {},
     "outputs": [
      {
       "output_type": "stream",
       "stream": "stdout",
       "text": [
        "['1' 'a' '3' '7']\n"
       ]
      }
     ],
     "prompt_number": 159
    },
    {
     "cell_type": "code",
     "collapsed": false,
     "input": [
      "a = np.array(set([1, 4, 4, 5]))\n",
      "print a\n",
      "# set operation takes the union of all the elements in the set"
     ],
     "language": "python",
     "metadata": {},
     "outputs": [
      {
       "output_type": "stream",
       "stream": "stdout",
       "text": [
        "set([1, 4, 5])\n"
       ]
      }
     ],
     "prompt_number": 160
    },
    {
     "cell_type": "markdown",
     "metadata": {},
     "source": [
      "### Functions"
     ]
    },
    {
     "cell_type": "markdown",
     "metadata": {},
     "source": [
      "Use one of numpy's [builtin functions](http://docs.scipy.org/doc/numpy-1.8.1/reference/routines.math.html) to find the first 100 [triangular numbers](http://en.wikipedia.org/wiki/Triangular_number)"
     ]
    },
    {
     "cell_type": "code",
     "collapsed": false,
     "input": [
      "# this can be a one-liner\n",
      "\n",
      "sum(np.arange (1,101,1))\n"
     ],
     "language": "python",
     "metadata": {},
     "outputs": [
      {
       "metadata": {},
       "output_type": "pyout",
       "prompt_number": 168,
       "text": [
        "5050"
       ]
      }
     ],
     "prompt_number": 168
    },
    {
     "cell_type": "markdown",
     "metadata": {},
     "source": [
      "compute the matrix product of these two arrays (not element-wise)\n",
      "\n",
      "\\begin{equation} \\begin{pmatrix}\n",
      "3 & 4 & 5 \\\\\n",
      "5 & 4 & 3 \\\\\n",
      "1 & 2 & 3\n",
      "\\end{pmatrix}\n",
      "\\begin{pmatrix}\n",
      "10 \\\\\n",
      "20 \\\\\n",
      "30\n",
      "\\end{pmatrix}\\end{equation}"
     ]
    },
    {
     "cell_type": "code",
     "collapsed": false,
     "input": [
      "a = np.array([[3, 4, 5], [5, 4, 3], [1, 2, 3]])\n",
      "b = np.array([10, 20, 30])\n",
      "sum(a*b,1)"
     ],
     "language": "python",
     "metadata": {},
     "outputs": [
      {
       "metadata": {},
       "output_type": "pyout",
       "prompt_number": 195,
       "text": [
        "array([260, 220, 140])"
       ]
      }
     ],
     "prompt_number": 195
    },
    {
     "cell_type": "code",
     "collapsed": false,
     "input": [
      "# matrix multiplication. You should get a vector as your output.\n"
     ],
     "language": "python",
     "metadata": {},
     "outputs": [],
     "prompt_number": 173
    },
    {
     "cell_type": "markdown",
     "metadata": {},
     "source": [
      "combine these vectors into a matrix\n",
      "\\begin{pmatrix}\n",
      "0 & 10 & 100 \\\\\n",
      "1 & 11 & 110 \\\\\n",
      "2 & 12 & 120 \\\\\n",
      "3 & 13 & 130\n",
      "\\end{pmatrix}"
     ]
    },
    {
     "cell_type": "code",
     "collapsed": false,
     "input": [
      "a, b, c = np.arange(4), np.arange(10, 14), np.arange(100, 140, 10)\n",
      "a, b, c\n",
      "np.array([a,b,c]).T"
     ],
     "language": "python",
     "metadata": {},
     "outputs": [
      {
       "metadata": {},
       "output_type": "pyout",
       "prompt_number": 176,
       "text": [
        "array([[  0,  10, 100],\n",
        "       [  1,  11, 110],\n",
        "       [  2,  12, 120],\n",
        "       [  3,  13, 130]])"
       ]
      }
     ],
     "prompt_number": 176
    },
    {
     "cell_type": "code",
     "collapsed": false,
     "input": [],
     "language": "python",
     "metadata": {},
     "outputs": []
    },
    {
     "cell_type": "markdown",
     "metadata": {},
     "source": [
      "define a function that takes an array as input, and returns the [logistic function](http://en.wikipedia.org/wiki/Logistic_function) applied to every element:\n",
      "\n",
      "\\begin{equation}\n",
      "f(x) = {1 \\over 1 + e^{-x}}\n",
      "\\end{equation}"
     ]
    },
    {
     "cell_type": "code",
     "collapsed": false,
     "input": [
      "def logistic(sequence):\n",
      "    # calculate the logistic\n",
      "    logisticsequence = 1 / (1 + exp(-sequence))\n",
      "  \n",
      "    \n",
      "    return logisticsequence"
     ],
     "language": "python",
     "metadata": {},
     "outputs": [],
     "prompt_number": 227
    },
    {
     "cell_type": "code",
     "collapsed": false,
     "input": [
      "# verify that your function behaves correctly by running this cell\n",
      "import matplotlib.pyplot as plt\n",
      "%matplotlib inline\n",
      "\n",
      "domain = np.linspace(-6, 6, 100)\n",
      "plt.plot(domain, logistic(domain))\n",
      "plt.show()"
     ],
     "language": "python",
     "metadata": {},
     "outputs": [
      {
       "metadata": {},
       "output_type": "display_data",
       "png": "[encoded data removed]",
       "text": [
        "<matplotlib.figure.Figure at 0x1060e5350>"
       ]
      }
     ],
     "prompt_number": 228
    },
    {
     "cell_type": "markdown",
     "metadata": {},
     "source": [
      "## More material\n",
      "* [100 numpy exercises](http://www.loria.fr/~rougier/teaching/numpy.100/)\n",
      "* [Performance Tips](http://wiki.scipy.org/PerformanceTips)\n",
      "* [Numpy C-API](http://docs.scipy.org/doc/numpy-dev/reference/c-api.html) if you absolutely need performance"
     ]
    }
   ],
   "metadata": {}
  }
 ]
}