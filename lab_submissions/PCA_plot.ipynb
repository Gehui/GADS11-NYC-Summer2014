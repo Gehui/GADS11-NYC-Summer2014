{
 "metadata": {
  "name": "",
  "signature": "sha256:6d95480ef10eb8edf6103cc600055af3ab1aed24259a1564e489268983fbe880"
 },
 "nbformat": 3,
 "nbformat_minor": 0,
 "worksheets": [
  {
   "cells": [
    {
     "cell_type": "code",
     "collapsed": false,
     "input": [
      "import pylab as pl\n",
      "import numpy as np\n",
      "import matplotlib.pyplot as plt\n",
      "\n",
      "from sklearn import datasets\n",
      "from sklearn.decomposition import PCA\n",
      "from sklearn.lda import LDA\n",
      "from sklearn.svm import LinearSVC\n",
      "\n",
      "def scree_plot():\n",
      "    # center data (important for dim reduction)\n",
      "    iris = datasets.load_iris()\n",
      "    iris.data = iris.data - np.mean(iris.data, axis=0)\n",
      "    \n",
      "    # get covariance matrix\n",
      "    np.cov(iris.data).shape         # this has the wrong dimensions\n",
      "    np.cov(iris.data, rowvar=0).shape   # this is good\n",
      "    \n",
      "    iris_cov = np.cov(iris.data, rowvar=0)\n",
      "    \n",
      "    # eigenvalue decomp\n",
      "    iris_eig = np.linalg.eig(iris_cov)\n",
      "    iris_egval = iris_eig[0]\n",
      "    \n",
      "    # pct of variance explained by each principal component\n",
      "    pcts = [k/sum(iris_egval) for k in iris_egval]\n",
      "    \n",
      "    plt.plot(pcts)\n",
      "    plt.xlabel('principal cmpts')\n",
      "    plt.ylabel('pct variance explained')\n",
      "    plt.title('iris scree plot')\n",
      "    plt.show()\n",
      "\n",
      "def pca_plot():\n",
      "    iris = datasets.load_iris()\n",
      "    X = iris.data\n",
      "    y = iris.target\n",
      "    target_names = iris.target_names\n",
      "    \n",
      "    pca = PCA(n_components=2)\n",
      "    X_decomp = pca.fit(X).transform(X)\n",
      "    \n",
      "    print 'explained variance ratio (first two components):', \\\n",
      "        pca.explained_variance_ratio_\n",
      "    \n",
      "    pl.figure()\n",
      "    for c, i, target_name in zip(\"rgb\", [0, 1, 2], target_names):\n",
      "        pl.scatter(X_decomp[y == i, 0], X_decomp[y == i, 1], c=c, label=target_name)\n",
      "    pl.legend()\n",
      "    pl.title('PCA of IRIS dataset')\n",
      "    pl.show()\n",
      "\n",
      "if __name__ == '__main__':\n",
      "    scree_plot()\n",
      "    #     pca_plot()"
     ],
     "language": "python",
     "metadata": {},
     "outputs": []
    },
    {
     "cell_type": "code",
     "collapsed": false,
     "input": [],
     "language": "python",
     "metadata": {},
     "outputs": []
    },
    {
     "cell_type": "code",
     "collapsed": false,
     "input": [],
     "language": "python",
     "metadata": {},
     "outputs": []
    },
    {
     "cell_type": "code",
     "collapsed": false,
     "input": [],
     "language": "python",
     "metadata": {},
     "outputs": []
    },
    {
     "cell_type": "code",
     "collapsed": false,
     "input": [],
     "language": "python",
     "metadata": {},
     "outputs": []
    },
    {
     "cell_type": "code",
     "collapsed": false,
     "input": [],
     "language": "python",
     "metadata": {},
     "outputs": []
    },
    {
     "cell_type": "code",
     "collapsed": false,
     "input": [],
     "language": "python",
     "metadata": {},
     "outputs": []
    },
    {
     "cell_type": "code",
     "collapsed": false,
     "input": [],
     "language": "python",
     "metadata": {},
     "outputs": []
    }
   ],
   "metadata": {}
  }
 ]
}