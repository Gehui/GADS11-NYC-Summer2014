{
 "metadata": {
  "name": "",
  "signature": "sha256:b7433be88bf74e3c78203a1701af9caab1c6fde90bc727b7d9c5bdab5c831c6a"
 },
 "nbformat": 3,
 "nbformat_minor": 0,
 "worksheets": [
  {
   "cells": [
    {
     "cell_type": "markdown",
     "metadata": {},
     "source": [
      "## Objectives\n",
      "* run through the lights in the room problem from lecture\n",
      "* Use kernels with PCA\n",
      "* Application of PCA to new data"
     ]
    },
    {
     "cell_type": "markdown",
     "metadata": {},
     "source": [
      "## The lights in a room problem\n",
      "To verify that the light problem works out, we can generate some random data and test the theory."
     ]
    },
    {
     "cell_type": "code",
     "collapsed": false,
     "input": [
      "from pandas import DataFrame\n",
      "from matplotlib import pyplot as plt\n",
      "import numpy as np\n",
      "from sklearn.decomposition import PCA\n",
      "np.random.seed(500)"
     ],
     "language": "python",
     "metadata": {},
     "outputs": [],
     "prompt_number": 1
    },
    {
     "cell_type": "markdown",
     "metadata": {},
     "source": [
      "Generate some data--we're building out a few lights in our room, and the data the cameras recorded.\n",
      "\n",
      "* intensities:   the lights\n",
      "* recorded_data: data from our camera, generated through dists and the cameras (recorders)"
     ]
    },
    {
     "cell_type": "code",
     "collapsed": false,
     "input": [
      "recorders   = DataFrame({'locations' : ('A', 'B', 'C', 'D'), 'X' : (0, 0, 1, 1), 'Y' : (0, 1, 1, 0)})\n",
      "locations   = np.array([ [.3, .5], [.8, .2] ])\n",
      "intensities = np.array([\n",
      "    [np.sin(np.array(range(100)) * np.pi/10) + 1.2],\n",
      "    [np.cos(np.array(range(100)) * np.pi/15) * .7 + .9]]).T\n",
      "distances   = np.array([\n",
      "    np.sqrt((locations[0] - recorders.X[i])**2 + (locations[1] - recorders.Y[i])**2) for i in range(4)]).T\n",
      "\n",
      "data = np.dot(intensities, np.exp(-2*distances))\n",
      "data_transposed = data.T"
     ],
     "language": "python",
     "metadata": {},
     "outputs": [],
     "prompt_number": 2
    },
    {
     "cell_type": "markdown",
     "metadata": {},
     "source": [
      "Take the mean of each column so we can later center the data--extremely useful for PCA."
     ]
    },
    {
     "cell_type": "code",
     "collapsed": false,
     "input": [
      "row_means = [np.mean(i) for i in data_transposed]\n",
      "data_transposed_scaled = np.array([data_transposed[i][0] - row_means[i] for i in range(4)])"
     ],
     "language": "python",
     "metadata": {},
     "outputs": [],
     "prompt_number": 3
    },
    {
     "cell_type": "markdown",
     "metadata": {},
     "source": [
      "Now that all the data has been generated, we can build the PCA model."
     ]
    },
    {
     "cell_type": "code",
     "collapsed": false,
     "input": [
      "pca = PCA()\n",
      "pca.fit(data_transposed_scaled)"
     ],
     "language": "python",
     "metadata": {},
     "outputs": [
      {
       "metadata": {},
       "output_type": "pyout",
       "prompt_number": 4,
       "text": [
        "PCA(copy=True, n_components=None, whiten=False)"
       ]
      }
     ],
     "prompt_number": 4
    },
    {
     "cell_type": "markdown",
     "metadata": {},
     "source": [
      "Pull out variance as an array. To make it easier to determine what to keep, scale the top variance to 1--in this practice, we should keep everything above .1 post scaling.\n",
      "\n",
      "In the plot below, we can use the elbow rule to say that the first two components are useable and the last two are not."
     ]
    },
    {
     "cell_type": "code",
     "collapsed": false,
     "input": [
      "variance = pca.explained_variance_ratio_\n",
      "readable_variance = variance * (1/variance[0])\n",
      "plt.plot(range(4), readable_variance)\n",
      "plt.show()"
     ],
     "language": "python",
     "metadata": {},
     "outputs": [],
     "prompt_number": 5
    },
    {
     "cell_type": "markdown",
     "metadata": {},
     "source": [
      "Plotting all four components against eachother, we can see how clear the patters are for the first two (red and blue), while the others are much less readable/useable."
     ]
    },
    {
     "cell_type": "code",
     "collapsed": false,
     "input": [
      "colors = ('red', 'blue', 'green', 'orange')\n",
      "for i in range(4):\n",
      "    plt.plot(range(100), pca.components_[i], c=colors[i])"
     ],
     "language": "python",
     "metadata": {},
     "outputs": [],
     "prompt_number": 6
    },
    {
     "cell_type": "markdown",
     "metadata": {},
     "source": [
      "## Using Kernels with PCA\n",
      "\n",
      "Code accessible in the [repo](https://github.com/datadave/GADS9-NYC-Spring2014-Lectures/lesson12_PCA/kernel.py).\n"
     ]
    },
    {
     "cell_type": "markdown",
     "metadata": {},
     "source": [
      "## Application of PCA to data\n",
      "\n",
      "1. Work through the iris data set include in sklearn and determine how many principal components are required to accurately predict the data. Note: you should be able to graph it, so it has to be one or two :)\n",
      "\n",
      "2. Try using a kernel to make the PCs have an even clearer distinction between each class label in the iris data set. Observe the differences between how kernels perform.\n",
      "\n",
      "3. How can PCA/KPCA be used for the lemon data set? Or your project2/final project? Continue practicing your application of these data sets and see how you can improve your current model implementation.\n"
     ]
    },
    {
     "cell_type": "markdown",
     "metadata": {},
     "source": [
      "## Resources\n",
      "- [A Tutorial on PCA](http://www.snl.salk.edu/~shlens/pca.pdf)\n",
      "- [Stanford PCA Tutorial](http://ufldl.stanford.edu/wiki/index.php/PCA)\n",
      "- [Aaron's PCA/3d/clustering post](http://planspace.org/2013/02/03/pca-3d-visualization-and-clustering-in-r/)"
     ]
    },
    {
     "cell_type": "code",
     "collapsed": false,
     "input": [],
     "language": "python",
     "metadata": {},
     "outputs": []
    }
   ],
   "metadata": {}
  }
 ]
}