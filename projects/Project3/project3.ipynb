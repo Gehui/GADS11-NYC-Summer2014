{
 "metadata": {
  "name": "",
  "signature": "sha256:29d5f9c4256261fbff19ba8d9d33d741209ee493a3786fdc5e0cb3aa47faee50"
 },
 "nbformat": 3,
 "nbformat_minor": 0,
 "worksheets": [
  {
   "cells": [
    {
     "cell_type": "code",
     "collapsed": false,
     "input": [
      "# IMPORT MODULES\n",
      "import pandas as pd\n",
      "from sklearn import tree\n",
      "\n",
      "# IMPORT DATA\n",
      "train = pd.read_csv(\"lemon_training.csv\")\n",
      "test = pd.read_csv(\"lemon_test.csv\")\n",
      "\n",
      "# CLEAN DATA\n",
      "features = list(train.columns)\n",
      "features.remove('IsBadBuy') '''Target variable'''\n",
      "'''Remove & Create other features here'''\n",
      "\n",
      "# CREATE TRAINING & TEST DATA\n",
      "training_X = train[features].values\n",
      "training_y = train['IsBadBuy'].values"
     ],
     "language": "python",
     "metadata": {},
     "outputs": [
      {
       "ename": "SyntaxError",
       "evalue": "invalid syntax (<ipython-input-2-0e3081189a10>, line 11)",
       "output_type": "pyerr",
       "traceback": [
        "\u001b[0;36m  File \u001b[0;32m\"<ipython-input-2-0e3081189a10>\"\u001b[0;36m, line \u001b[0;32m11\u001b[0m\n\u001b[0;31m    features.remove('IsBadBuy') '''Target variable'''\u001b[0m\n\u001b[0m                                                    ^\u001b[0m\n\u001b[0;31mSyntaxError\u001b[0m\u001b[0;31m:\u001b[0m invalid syntax\n"
       ]
      }
     ],
     "prompt_number": 2
    },
    {
     "cell_type": "code",
     "collapsed": false,
     "input": [],
     "language": "python",
     "metadata": {},
     "outputs": []
    }
   ],
   "metadata": {}
  }
 ]
}