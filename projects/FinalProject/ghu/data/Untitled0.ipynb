{
 "metadata": {
  "name": "",
  "signature": "sha256:ed61c4c0e3377c1ad6d6d95d75179681af1177d8a7d1a6a7c2cf397f8fba5d92"
 },
 "nbformat": 3,
 "nbformat_minor": 0,
 "worksheets": []
}